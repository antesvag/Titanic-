{
 "cells": [
  {
   "cell_type": "markdown",
   "id": "cf9bd273",
   "metadata": {},
   "source": [
    "KAGGLE TITANIC MODEL SELECTION"
   ]
  },
  {
   "cell_type": "code",
   "execution_count": 1,
   "id": "5b297dd3",
   "metadata": {},
   "outputs": [],
   "source": [
    "#paketi\n",
    "#general\n",
    "import time\n",
    "import pandas as pd\n",
    "import numpy as np\n",
    "import matplotlib.pyplot as plt\n",
    "import seaborn as sns\n",
    "#modeli\n",
    "from sklearn.preprocessing import MinMaxScaler\n",
    "from sklearn.model_selection import train_test_split, GridSearchCV, StratifiedKFold\n",
    "from sklearn.linear_model import LogisticRegression, LinearRegression\n",
    "from sklearn.ensemble import RandomForestClassifier\n",
    "from sklearn.metrics import accuracy_score, confusion_matrix, classification_report\n",
    "from lightgbm import LGBMClassifier\n",
    "from scipy.stats import chi2_contingency, ttest_ind, mannwhitneyu, pearsonr"
   ]
  },
  {
   "cell_type": "code",
   "execution_count": 36,
   "id": "459a05a7",
   "metadata": {},
   "outputs": [],
   "source": [
    "#imamo dataframe train_kon, test_kon gdje su popunjeni svi missinzi i napravljeni featuresi\n",
    "#importanje\n",
    "train_pom=pd.read_csv(\"C:\\\\Users\\\\ante1\\\\OneDrive\\\\Radna površina\\\\kaggle titanic\\\\train_novi.csv\")\n",
    "test=pd.read_csv(\"C:\\\\Users\\\\ante1\\\\OneDrive\\\\Radna površina\\\\kaggle titanic\\\\test_novi.csv\")"
   ]
  },
  {
   "cell_type": "code",
   "execution_count": 7,
   "id": "f4513e83",
   "metadata": {
    "scrolled": false
   },
   "outputs": [
    {
     "data": {
      "text/plain": [
       "Index(['Unnamed: 0', 'PassengerId', 'Survived', 'Pclass', 'Name', 'Sex', 'Age',\n",
       "       'SibSp', 'Parch', 'Ticket', 'Fare', 'Cabin', 'Embarked', 'FS',\n",
       "       'Is_alone', 'FS_kat', 'Fare_rescaled', 'Fare_log_kat',\n",
       "       'Cabin_is_missing', 'Brojevi', 'Ime_karte_missing', 'Ime_kabine_kat',\n",
       "       'Age_kat'],\n",
       "      dtype='object')"
      ]
     },
     "execution_count": 7,
     "metadata": {},
     "output_type": "execute_result"
    }
   ],
   "source": [
    "train_pom.columns"
   ]
  },
  {
   "cell_type": "code",
   "execution_count": 16,
   "id": "ea81b6aa",
   "metadata": {},
   "outputs": [
    {
     "data": {
      "text/plain": [
       "Unnamed: 0             int64\n",
       "PassengerId            int64\n",
       "Survived               int64\n",
       "Pclass                 int64\n",
       "Name                  object\n",
       "Sex                   object\n",
       "Age                  float64\n",
       "SibSp                  int64\n",
       "Parch                  int64\n",
       "Ticket                object\n",
       "Fare                 float64\n",
       "Cabin                 object\n",
       "Embarked              object\n",
       "FS                     int64\n",
       "Is_alone              object\n",
       "FS_kat               float64\n",
       "Fare_rescaled        float64\n",
       "Fare_log_kat           int64\n",
       "Cabin_is_missing       int64\n",
       "Brojevi               object\n",
       "Ime_karte_missing      int64\n",
       "Ime_kabine_kat         int64\n",
       "Age_kat               object\n",
       "dtype: object"
      ]
     },
     "execution_count": 16,
     "metadata": {},
     "output_type": "execute_result"
    }
   ],
   "source": [
    "train_pom.dtypes"
   ]
  },
  {
   "cell_type": "code",
   "execution_count": 37,
   "id": "786d7a13",
   "metadata": {},
   "outputs": [],
   "source": [
    "#feature importance preko chisq i pearsona\n",
    "# Perform tests for each variable against 'Survived'\n",
    "tests_results = []\n",
    "\n",
    "for column in train_pom.columns:\n",
    "    if column == 'Survived':\n",
    "        continue  # Skip 'Survived' variable itself\n",
    "\n",
    "    # Categorical variables: Chi-square test\n",
    "    if train_pom[column].dtype == 'object':\n",
    "        contingency_table = pd.crosstab(train_pom[column], train_pom['Survived'])\n",
    "        chi2, p, dof, expected = chi2_contingency(contingency_table)\n",
    "        test_result = {'varijabla': column,'test': 'Chi-square', 'chi2': chi2, 'p-value': p}\n",
    "    \n",
    "    # Numerical variables: T-test (assuming normally distributed)\n",
    "    elif train_pom[column].dtype in ['int64', 'float64']:\n",
    "        corr_coef, p_value = pearsonr(train_pom[column], train_pom['Survived'])\n",
    "        test_result = {'varijabla': column, 'test': 'Pearons signif','koef': corr_coef, 'p-value': p_value}\n",
    "    \n",
    "    # You can add more tests for other variable types if needed\n",
    "    \n",
    "    tests_results.append(test_result)\n",
    "\n",
    "# Create a DataFrame from results\n",
    "results_df = pd.DataFrame(tests_results)\n",
    "\n",
    "# Sort DataFrame by P-value in ascending order\n",
    "results_df_sorted = results_df.sort_values(by='p-value')"
   ]
  },
  {
   "cell_type": "code",
   "execution_count": 38,
   "id": "844936cb",
   "metadata": {
    "scrolled": false
   },
   "outputs": [
    {
     "data": {
      "text/html": [
       "<div>\n",
       "<style scoped>\n",
       "    .dataframe tbody tr th:only-of-type {\n",
       "        vertical-align: middle;\n",
       "    }\n",
       "\n",
       "    .dataframe tbody tr th {\n",
       "        vertical-align: top;\n",
       "    }\n",
       "\n",
       "    .dataframe thead th {\n",
       "        text-align: right;\n",
       "    }\n",
       "</style>\n",
       "<table border=\"1\" class=\"dataframe\">\n",
       "  <thead>\n",
       "    <tr style=\"text-align: right;\">\n",
       "      <th></th>\n",
       "      <th>varijabla</th>\n",
       "      <th>test</th>\n",
       "      <th>koef</th>\n",
       "      <th>p-value</th>\n",
       "      <th>chi2</th>\n",
       "    </tr>\n",
       "  </thead>\n",
       "  <tbody>\n",
       "    <tr>\n",
       "      <th>4</th>\n",
       "      <td>Sex</td>\n",
       "      <td>Chi-square</td>\n",
       "      <td>NaN</td>\n",
       "      <td>1.197357e-58</td>\n",
       "      <td>260.717020</td>\n",
       "    </tr>\n",
       "    <tr>\n",
       "      <th>2</th>\n",
       "      <td>Pclass</td>\n",
       "      <td>Pearons signif</td>\n",
       "      <td>-0.338481</td>\n",
       "      <td>2.537047e-25</td>\n",
       "      <td>NaN</td>\n",
       "    </tr>\n",
       "    <tr>\n",
       "      <th>15</th>\n",
       "      <td>Fare_rescaled</td>\n",
       "      <td>Pearons signif</td>\n",
       "      <td>0.329862</td>\n",
       "      <td>4.646670e-24</td>\n",
       "      <td>NaN</td>\n",
       "    </tr>\n",
       "    <tr>\n",
       "      <th>17</th>\n",
       "      <td>Cabin_is_missing</td>\n",
       "      <td>Pearons signif</td>\n",
       "      <td>-0.316912</td>\n",
       "      <td>3.090891e-22</td>\n",
       "      <td>NaN</td>\n",
       "    </tr>\n",
       "    <tr>\n",
       "      <th>14</th>\n",
       "      <td>FS_kat</td>\n",
       "      <td>Chi-square</td>\n",
       "      <td>NaN</td>\n",
       "      <td>6.522920e-17</td>\n",
       "      <td>74.537249</td>\n",
       "    </tr>\n",
       "    <tr>\n",
       "      <th>16</th>\n",
       "      <td>Fare_log_kat</td>\n",
       "      <td>Pearons signif</td>\n",
       "      <td>0.265841</td>\n",
       "      <td>7.043655e-16</td>\n",
       "      <td>NaN</td>\n",
       "    </tr>\n",
       "    <tr>\n",
       "      <th>9</th>\n",
       "      <td>Fare</td>\n",
       "      <td>Pearons signif</td>\n",
       "      <td>0.257307</td>\n",
       "      <td>6.120189e-15</td>\n",
       "      <td>NaN</td>\n",
       "    </tr>\n",
       "    <tr>\n",
       "      <th>13</th>\n",
       "      <td>Is_alone</td>\n",
       "      <td>Chi-square</td>\n",
       "      <td>NaN</td>\n",
       "      <td>1.972654e-09</td>\n",
       "      <td>36.000514</td>\n",
       "    </tr>\n",
       "    <tr>\n",
       "      <th>11</th>\n",
       "      <td>Embarked</td>\n",
       "      <td>Chi-square</td>\n",
       "      <td>NaN</td>\n",
       "      <td>2.300863e-06</td>\n",
       "      <td>25.964453</td>\n",
       "    </tr>\n",
       "    <tr>\n",
       "      <th>20</th>\n",
       "      <td>Ime_kabine_kat</td>\n",
       "      <td>Pearons signif</td>\n",
       "      <td>-0.144659</td>\n",
       "      <td>1.459109e-05</td>\n",
       "      <td>NaN</td>\n",
       "    </tr>\n",
       "    <tr>\n",
       "      <th>21</th>\n",
       "      <td>Age_kat</td>\n",
       "      <td>Chi-square</td>\n",
       "      <td>NaN</td>\n",
       "      <td>7.179881e-04</td>\n",
       "      <td>14.478115</td>\n",
       "    </tr>\n",
       "    <tr>\n",
       "      <th>8</th>\n",
       "      <td>Ticket</td>\n",
       "      <td>Chi-square</td>\n",
       "      <td>NaN</td>\n",
       "      <td>1.152730e-02</td>\n",
       "      <td>766.569703</td>\n",
       "    </tr>\n",
       "    <tr>\n",
       "      <th>18</th>\n",
       "      <td>Brojevi</td>\n",
       "      <td>Chi-square</td>\n",
       "      <td>NaN</td>\n",
       "      <td>1.202527e-02</td>\n",
       "      <td>752.123305</td>\n",
       "    </tr>\n",
       "    <tr>\n",
       "      <th>7</th>\n",
       "      <td>Parch</td>\n",
       "      <td>Pearons signif</td>\n",
       "      <td>0.081629</td>\n",
       "      <td>1.479925e-02</td>\n",
       "      <td>NaN</td>\n",
       "    </tr>\n",
       "    <tr>\n",
       "      <th>5</th>\n",
       "      <td>Age</td>\n",
       "      <td>Pearons signif</td>\n",
       "      <td>-0.065372</td>\n",
       "      <td>5.109695e-02</td>\n",
       "      <td>NaN</td>\n",
       "    </tr>\n",
       "    <tr>\n",
       "      <th>10</th>\n",
       "      <td>Cabin</td>\n",
       "      <td>Chi-square</td>\n",
       "      <td>NaN</td>\n",
       "      <td>1.835735e-01</td>\n",
       "      <td>161.250000</td>\n",
       "    </tr>\n",
       "    <tr>\n",
       "      <th>6</th>\n",
       "      <td>SibSp</td>\n",
       "      <td>Pearons signif</td>\n",
       "      <td>-0.035322</td>\n",
       "      <td>2.922439e-01</td>\n",
       "      <td>NaN</td>\n",
       "    </tr>\n",
       "    <tr>\n",
       "      <th>3</th>\n",
       "      <td>Name</td>\n",
       "      <td>Chi-square</td>\n",
       "      <td>NaN</td>\n",
       "      <td>4.842482e-01</td>\n",
       "      <td>891.000000</td>\n",
       "    </tr>\n",
       "    <tr>\n",
       "      <th>12</th>\n",
       "      <td>FS</td>\n",
       "      <td>Pearons signif</td>\n",
       "      <td>0.016639</td>\n",
       "      <td>6.198911e-01</td>\n",
       "      <td>NaN</td>\n",
       "    </tr>\n",
       "    <tr>\n",
       "      <th>1</th>\n",
       "      <td>PassengerId</td>\n",
       "      <td>Pearons signif</td>\n",
       "      <td>-0.005007</td>\n",
       "      <td>8.813658e-01</td>\n",
       "      <td>NaN</td>\n",
       "    </tr>\n",
       "    <tr>\n",
       "      <th>0</th>\n",
       "      <td>Unnamed: 0</td>\n",
       "      <td>Pearons signif</td>\n",
       "      <td>-0.005007</td>\n",
       "      <td>8.813658e-01</td>\n",
       "      <td>NaN</td>\n",
       "    </tr>\n",
       "    <tr>\n",
       "      <th>19</th>\n",
       "      <td>Ime_karte_missing</td>\n",
       "      <td>Pearons signif</td>\n",
       "      <td>-0.001339</td>\n",
       "      <td>9.681528e-01</td>\n",
       "      <td>NaN</td>\n",
       "    </tr>\n",
       "  </tbody>\n",
       "</table>\n",
       "</div>"
      ],
      "text/plain": [
       "            varijabla            test      koef       p-value        chi2\n",
       "4                 Sex      Chi-square       NaN  1.197357e-58  260.717020\n",
       "2              Pclass  Pearons signif -0.338481  2.537047e-25         NaN\n",
       "15      Fare_rescaled  Pearons signif  0.329862  4.646670e-24         NaN\n",
       "17   Cabin_is_missing  Pearons signif -0.316912  3.090891e-22         NaN\n",
       "14             FS_kat      Chi-square       NaN  6.522920e-17   74.537249\n",
       "16       Fare_log_kat  Pearons signif  0.265841  7.043655e-16         NaN\n",
       "9                Fare  Pearons signif  0.257307  6.120189e-15         NaN\n",
       "13           Is_alone      Chi-square       NaN  1.972654e-09   36.000514\n",
       "11           Embarked      Chi-square       NaN  2.300863e-06   25.964453\n",
       "20     Ime_kabine_kat  Pearons signif -0.144659  1.459109e-05         NaN\n",
       "21            Age_kat      Chi-square       NaN  7.179881e-04   14.478115\n",
       "8              Ticket      Chi-square       NaN  1.152730e-02  766.569703\n",
       "18            Brojevi      Chi-square       NaN  1.202527e-02  752.123305\n",
       "7               Parch  Pearons signif  0.081629  1.479925e-02         NaN\n",
       "5                 Age  Pearons signif -0.065372  5.109695e-02         NaN\n",
       "10              Cabin      Chi-square       NaN  1.835735e-01  161.250000\n",
       "6               SibSp  Pearons signif -0.035322  2.922439e-01         NaN\n",
       "3                Name      Chi-square       NaN  4.842482e-01  891.000000\n",
       "12                 FS  Pearons signif  0.016639  6.198911e-01         NaN\n",
       "1         PassengerId  Pearons signif -0.005007  8.813658e-01         NaN\n",
       "0          Unnamed: 0  Pearons signif -0.005007  8.813658e-01         NaN\n",
       "19  Ime_karte_missing  Pearons signif -0.001339  9.681528e-01         NaN"
      ]
     },
     "execution_count": 38,
     "metadata": {},
     "output_type": "execute_result"
    }
   ],
   "source": [
    "results_df_sorted"
   ]
  },
  {
   "cell_type": "code",
   "execution_count": 43,
   "id": "d9ac127c",
   "metadata": {},
   "outputs": [],
   "source": [
    "#encoding kateogrijalnih varijabli \n",
    "#train\n",
    "train_pom=pd.get_dummies(train_pom, columns=['Sex'])\n",
    "#train_pom=pd.get_dummies(train_pom, columns=['Is_alone'])\n",
    "#train_pom=pd.get_dummies(train_pom, columns=['FS_kat'])\n",
    "#train_pom=pd.get_dummies(train_pom, columns=['Embarked'])\n",
    "#test\n",
    "test=pd.get_dummies(test, columns=['Sex'])\n",
    "#test=pd.get_dummies(test, columns=['Is_alone'])\n",
    "#test=pd.get_dummies(test, columns=['FS_kat'])\n",
    "#test=pd.get_dummies(test, columns=['Embarked'])"
   ]
  },
  {
   "cell_type": "code",
   "execution_count": 10,
   "id": "34ea53f3",
   "metadata": {},
   "outputs": [],
   "source": [
    "#RESCALING\n",
    "#train\n",
    "train_pom['Age']=MinMaxScaler().fit_transform(train_pom['Age'].array.reshape(-1, 1))\n",
    "train_pom['Fare']=MinMaxScaler().fit_transform(train_pom['Fare'].array.reshape(-1, 1))\n",
    "#test\n",
    "test['Age']=MinMaxScaler().fit_transform(test['Age'].array.reshape(-1, 1))\n",
    "test['Fare']=MinMaxScaler().fit_transform(test['Fare'].array.reshape(-1, 1))"
   ]
  },
  {
   "cell_type": "code",
   "execution_count": 11,
   "id": "700b06a5",
   "metadata": {},
   "outputs": [],
   "source": [
    "#izbacujemo ticket, cabin, name, FS, PassengerId, unamaed 0, imena, brojevi, Brojevi"
   ]
  },
  {
   "cell_type": "markdown",
   "id": "f75464a8",
   "metadata": {},
   "source": [
    "mozda u pomocni string pisati imena cega izbacujemo da bude lakse"
   ]
  },
  {
   "cell_type": "code",
   "execution_count": 44,
   "id": "af336f2a",
   "metadata": {},
   "outputs": [],
   "source": [
    "#podjela u train test\n",
    "y=train_pom['Survived']\n",
    "X=train_pom.drop(['Survived','Unnamed: 0','Ime_karte_missing','FS','SibSp','Age','Parch','Fare','Embarked','Is_alone','FS_kat'],axis=1)\n",
    "X.columns = X.columns.astype(str)\n",
    "#tt split\n",
    "X_train, X_valid, y_train, y_valid = train_test_split(X, y, stratify=y,test_size=0.1, random_state=0)\n",
    "#kreiranje zasebnog test seta\n",
    "X_test=test.drop(['Unnamed: 0','Ime_karte_missing','FS','SibSp','Age','Parch','Fare','Embarked','Is_alone','FS_kat'],axis=1)"
   ]
  },
  {
   "cell_type": "code",
   "execution_count": 45,
   "id": "f74e282c",
   "metadata": {},
   "outputs": [],
   "source": [
    "#classifiers\n",
    "classifiers = {\n",
    "    \"LogisticRegression\" : LogisticRegression(random_state=0),\n",
    "    \"RandomForest\" : RandomForestClassifier(random_state=0),\n",
    "    \"LGBM\" : LGBMClassifier(random_state=0)\n",
    "}\n",
    "LR_grid = {'penalty': ['l1','l2'],\n",
    "           'C': [0.25, 0.5, 0.75, 1, 1.25, 1.5],\n",
    "           'max_iter': [50, 100, 150]}\n",
    "RF_grid = {'n_estimators': [20, 30, 40, 50],\n",
    "        'max_depth': [1, 2, 3, 4]}\n",
    "boosted_grid = {'n_estimators': [50, 100],\n",
    "        'max_depth': [4,6,8],\n",
    "        'learning_rate': [0.05, 0.1, 0.15]}\n",
    "grid = {\n",
    "    \"LogisticRegression\" : LR_grid,\n",
    "    \"RandomForest\" : RF_grid,\n",
    "    \"LGBM\" : boosted_grid\n",
    "}"
   ]
  },
  {
   "cell_type": "code",
   "execution_count": 46,
   "id": "d1c3e5cb",
   "metadata": {},
   "outputs": [
    {
     "name": "stderr",
     "output_type": "stream",
     "text": [
      "C:\\Users\\ante1\\anaconda3\\Lib\\site-packages\\sklearn\\model_selection\\_validation.py:425: FitFailedWarning: \n",
      "90 fits failed out of a total of 180.\n",
      "The score on these train-test partitions for these parameters will be set to nan.\n",
      "If these failures are not expected, you can try to debug them by setting error_score='raise'.\n",
      "\n",
      "Below are more details about the failures:\n",
      "--------------------------------------------------------------------------------\n",
      "90 fits failed with the following error:\n",
      "Traceback (most recent call last):\n",
      "  File \"C:\\Users\\ante1\\anaconda3\\Lib\\site-packages\\sklearn\\model_selection\\_validation.py\", line 732, in _fit_and_score\n",
      "    estimator.fit(X_train, y_train, **fit_params)\n",
      "  File \"C:\\Users\\ante1\\anaconda3\\Lib\\site-packages\\sklearn\\base.py\", line 1151, in wrapper\n",
      "    return fit_method(estimator, *args, **kwargs)\n",
      "           ^^^^^^^^^^^^^^^^^^^^^^^^^^^^^^^^^^^^^^\n",
      "  File \"C:\\Users\\ante1\\anaconda3\\Lib\\site-packages\\sklearn\\linear_model\\_logistic.py\", line 1168, in fit\n",
      "    solver = _check_solver(self.solver, self.penalty, self.dual)\n",
      "             ^^^^^^^^^^^^^^^^^^^^^^^^^^^^^^^^^^^^^^^^^^^^^^^^^^^\n",
      "  File \"C:\\Users\\ante1\\anaconda3\\Lib\\site-packages\\sklearn\\linear_model\\_logistic.py\", line 56, in _check_solver\n",
      "    raise ValueError(\n",
      "ValueError: Solver lbfgs supports only 'l2' or 'none' penalties, got l1 penalty.\n",
      "\n",
      "  warnings.warn(some_fits_failed_message, FitFailedWarning)\n",
      "C:\\Users\\ante1\\anaconda3\\Lib\\site-packages\\sklearn\\model_selection\\_search.py:976: UserWarning: One or more of the test scores are non-finite: [       nan 0.78525621        nan 0.78525621        nan 0.78525621\n",
      "        nan 0.78400621        nan 0.78400621        nan 0.78400621\n",
      "        nan 0.78275621        nan 0.78275621        nan 0.78275621\n",
      "        nan 0.78275621        nan 0.78275621        nan 0.78275621\n",
      "        nan 0.78275621        nan 0.78275621        nan 0.78275621\n",
      "        nan 0.78275621        nan 0.78275621        nan 0.78275621]\n",
      "  warnings.warn(\n"
     ]
    },
    {
     "name": "stdout",
     "output_type": "stream",
     "text": [
      "Model: LogisticRegression\n",
      "Training time (mins): 0.03\n",
      "\n",
      "Model: RandomForest\n",
      "Training time (mins): 0.1\n",
      "\n",
      "[LightGBM] [Warning] Accuracy may be bad since you didn't explicitly set num_leaves OR 2^max_depth > num_leaves. (num_leaves=31).\n",
      "[LightGBM] [Warning] Accuracy may be bad since you didn't explicitly set num_leaves OR 2^max_depth > num_leaves. (num_leaves=31).\n",
      "[LightGBM] [Info] Number of positive: 307, number of negative: 494\n",
      "[LightGBM] [Info] Auto-choosing col-wise multi-threading, the overhead of testing was 0.000138 seconds.\n",
      "You can set `force_col_wise=true` to remove the overhead.\n",
      "[LightGBM] [Info] Total Bins 135\n",
      "[LightGBM] [Info] Number of data points in the train set: 801, number of used features: 5\n",
      "[LightGBM] [Info] [binary:BoostFromScore]: pavg=0.383271 -> initscore=-0.475688\n",
      "[LightGBM] [Info] Start training from score -0.475688\n",
      "[LightGBM] [Warning] No further splits with positive gain, best gain: -inf\n",
      "[LightGBM] [Warning] No further splits with positive gain, best gain: -inf\n",
      "[LightGBM] [Warning] No further splits with positive gain, best gain: -inf\n",
      "[LightGBM] [Warning] No further splits with positive gain, best gain: -inf\n",
      "[LightGBM] [Warning] No further splits with positive gain, best gain: -inf\n",
      "[LightGBM] [Warning] No further splits with positive gain, best gain: -inf\n",
      "[LightGBM] [Warning] No further splits with positive gain, best gain: -inf\n",
      "[LightGBM] [Warning] No further splits with positive gain, best gain: -inf\n",
      "[LightGBM] [Warning] No further splits with positive gain, best gain: -inf\n",
      "[LightGBM] [Warning] No further splits with positive gain, best gain: -inf\n",
      "[LightGBM] [Warning] No further splits with positive gain, best gain: -inf\n",
      "[LightGBM] [Warning] No further splits with positive gain, best gain: -inf\n",
      "[LightGBM] [Warning] No further splits with positive gain, best gain: -inf\n",
      "[LightGBM] [Warning] No further splits with positive gain, best gain: -inf\n",
      "[LightGBM] [Warning] No further splits with positive gain, best gain: -inf\n",
      "[LightGBM] [Warning] No further splits with positive gain, best gain: -inf\n",
      "[LightGBM] [Warning] No further splits with positive gain, best gain: -inf\n",
      "[LightGBM] [Warning] No further splits with positive gain, best gain: -inf\n",
      "[LightGBM] [Warning] No further splits with positive gain, best gain: -inf\n",
      "[LightGBM] [Warning] No further splits with positive gain, best gain: -inf\n",
      "[LightGBM] [Warning] No further splits with positive gain, best gain: -inf\n",
      "[LightGBM] [Warning] No further splits with positive gain, best gain: -inf\n",
      "[LightGBM] [Warning] No further splits with positive gain, best gain: -inf\n",
      "[LightGBM] [Warning] No further splits with positive gain, best gain: -inf\n",
      "[LightGBM] [Warning] No further splits with positive gain, best gain: -inf\n",
      "[LightGBM] [Warning] No further splits with positive gain, best gain: -inf\n",
      "[LightGBM] [Warning] No further splits with positive gain, best gain: -inf\n",
      "[LightGBM] [Warning] No further splits with positive gain, best gain: -inf\n",
      "[LightGBM] [Warning] No further splits with positive gain, best gain: -inf\n",
      "[LightGBM] [Warning] No further splits with positive gain, best gain: -inf\n",
      "[LightGBM] [Warning] No further splits with positive gain, best gain: -inf\n",
      "[LightGBM] [Warning] No further splits with positive gain, best gain: -inf\n",
      "[LightGBM] [Warning] No further splits with positive gain, best gain: -inf\n",
      "[LightGBM] [Warning] No further splits with positive gain, best gain: -inf\n",
      "[LightGBM] [Warning] No further splits with positive gain, best gain: -inf\n",
      "[LightGBM] [Warning] No further splits with positive gain, best gain: -inf\n",
      "[LightGBM] [Warning] No further splits with positive gain, best gain: -inf\n",
      "[LightGBM] [Warning] No further splits with positive gain, best gain: -inf\n",
      "[LightGBM] [Warning] No further splits with positive gain, best gain: -inf\n",
      "[LightGBM] [Warning] No further splits with positive gain, best gain: -inf\n",
      "[LightGBM] [Warning] No further splits with positive gain, best gain: -inf\n",
      "[LightGBM] [Warning] No further splits with positive gain, best gain: -inf\n",
      "[LightGBM] [Warning] No further splits with positive gain, best gain: -inf\n",
      "[LightGBM] [Warning] No further splits with positive gain, best gain: -inf\n",
      "[LightGBM] [Warning] No further splits with positive gain, best gain: -inf\n",
      "[LightGBM] [Warning] No further splits with positive gain, best gain: -inf\n",
      "[LightGBM] [Warning] No further splits with positive gain, best gain: -inf\n",
      "[LightGBM] [Warning] No further splits with positive gain, best gain: -inf\n",
      "[LightGBM] [Warning] No further splits with positive gain, best gain: -inf\n",
      "[LightGBM] [Warning] No further splits with positive gain, best gain: -inf\n",
      "[LightGBM] [Warning] Accuracy may be bad since you didn't explicitly set num_leaves OR 2^max_depth > num_leaves. (num_leaves=31).\n",
      "Model: LGBM\n",
      "Training time (mins): 0.08\n",
      "\n"
     ]
    }
   ],
   "source": [
    "#validation\n",
    "i=0\n",
    "clf_best_params=classifiers.copy()\n",
    "valid_scores=pd.DataFrame({'Classifer':classifiers.keys(), 'Validation accuracy': np.zeros(len(classifiers)), 'Training time': np.zeros(len(classifiers))})\n",
    "for key, classifier in classifiers.items():\n",
    "    start = time.time()\n",
    "    clf = GridSearchCV(estimator=classifier, param_grid=grid[key], n_jobs=-1, cv=None)\n",
    "\n",
    "    # Train and score\n",
    "    clf.fit(X_train, y_train)\n",
    "    valid_scores.iloc[i,1]=clf.score(X_valid, y_valid)\n",
    "\n",
    "    # Save trained model\n",
    "    clf_best_params[key]=clf.best_params_\n",
    "    \n",
    "    # Print iteration and training time\n",
    "    stop = time.time()\n",
    "    valid_scores.iloc[i,2]=np.round((stop - start)/60, 2)\n",
    "    \n",
    "    print('Model:', key)\n",
    "    print('Training time (mins):', valid_scores.iloc[i,2])\n",
    "    print('')\n",
    "    i+=1"
   ]
  },
  {
   "cell_type": "code",
   "execution_count": 47,
   "id": "9ad01fa7",
   "metadata": {
    "scrolled": true
   },
   "outputs": [
    {
     "data": {
      "text/html": [
       "<div>\n",
       "<style scoped>\n",
       "    .dataframe tbody tr th:only-of-type {\n",
       "        vertical-align: middle;\n",
       "    }\n",
       "\n",
       "    .dataframe tbody tr th {\n",
       "        vertical-align: top;\n",
       "    }\n",
       "\n",
       "    .dataframe thead th {\n",
       "        text-align: right;\n",
       "    }\n",
       "</style>\n",
       "<table border=\"1\" class=\"dataframe\">\n",
       "  <thead>\n",
       "    <tr style=\"text-align: right;\">\n",
       "      <th></th>\n",
       "      <th>Classifer</th>\n",
       "      <th>Validation accuracy</th>\n",
       "      <th>Training time</th>\n",
       "    </tr>\n",
       "  </thead>\n",
       "  <tbody>\n",
       "    <tr>\n",
       "      <th>0</th>\n",
       "      <td>LogisticRegression</td>\n",
       "      <td>0.766667</td>\n",
       "      <td>0.03</td>\n",
       "    </tr>\n",
       "    <tr>\n",
       "      <th>1</th>\n",
       "      <td>RandomForest</td>\n",
       "      <td>0.777778</td>\n",
       "      <td>0.10</td>\n",
       "    </tr>\n",
       "    <tr>\n",
       "      <th>2</th>\n",
       "      <td>LGBM</td>\n",
       "      <td>0.788889</td>\n",
       "      <td>0.08</td>\n",
       "    </tr>\n",
       "  </tbody>\n",
       "</table>\n",
       "</div>"
      ],
      "text/plain": [
       "            Classifer  Validation accuracy  Training time\n",
       "0  LogisticRegression             0.766667           0.03\n",
       "1        RandomForest             0.777778           0.10\n",
       "2                LGBM             0.788889           0.08"
      ]
     },
     "execution_count": 47,
     "metadata": {},
     "output_type": "execute_result"
    }
   ],
   "source": [
    "valid_scores"
   ]
  },
  {
   "cell_type": "code",
   "execution_count": 48,
   "id": "ef96c88e",
   "metadata": {
    "scrolled": true
   },
   "outputs": [
    {
     "data": {
      "text/plain": [
       "{'LogisticRegression': {'C': 0.25, 'max_iter': 50, 'penalty': 'l2'},\n",
       " 'RandomForest': {'max_depth': 4, 'n_estimators': 20},\n",
       " 'LGBM': {'learning_rate': 0.15, 'max_depth': 6, 'n_estimators': 50}}"
      ]
     },
     "execution_count": 48,
     "metadata": {},
     "output_type": "execute_result"
    }
   ],
   "source": [
    "# Show best parameters from grid search\n",
    "clf_best_params"
   ]
  },
  {
   "cell_type": "code",
   "execution_count": 49,
   "id": "d47ec4ac",
   "metadata": {},
   "outputs": [],
   "source": [
    "#radimo crossvalidation na najboljim klasifikatorima\n",
    "# Classifiers\n",
    "best_classifiers = {\n",
    "    \"RandomForest\" : RandomForestClassifier(**clf_best_params[\"RandomForest\"], random_state=0),\n",
    "}"
   ]
  },
  {
   "cell_type": "code",
   "execution_count": 18,
   "id": "3fbd2ab7",
   "metadata": {},
   "outputs": [
    {
     "data": {
      "text/plain": [
       "2.737880811060884"
      ]
     },
     "execution_count": 18,
     "metadata": {},
     "output_type": "execute_result"
    }
   ],
   "source": [
    "X_test['Fare_rescaled'][152]"
   ]
  },
  {
   "cell_type": "code",
   "execution_count": 50,
   "id": "e21895e6",
   "metadata": {},
   "outputs": [
    {
     "name": "stdout",
     "output_type": "stream",
     "text": [
      "Model: RandomForest\n",
      "Average validation accuracy: 80.36\n",
      "Training time (mins): 0.02\n",
      "\n"
     ]
    }
   ],
   "source": [
    "# Number of folds in cross validation\n",
    "FOLDS=10\n",
    "\n",
    "preds=np.zeros(len(X_test))\n",
    "for key, classifier in best_classifiers.items():\n",
    "    start = time.time()\n",
    "    \n",
    "    # 10-fold cross validation\n",
    "    cv = StratifiedKFold(n_splits=FOLDS, shuffle=True, random_state=0)\n",
    "    \n",
    "    score=0\n",
    "    for fold, (train_idx, val_idx) in enumerate(cv.split(X, y)):\n",
    "        # Get training and validation sets\n",
    "        X_train, X_valid = X.loc[train_idx], X.loc[val_idx]\n",
    "        y_train, y_valid = y.loc[train_idx], y.loc[val_idx]\n",
    "\n",
    "        # Train model\n",
    "        clf = classifier\n",
    "        clf.fit(X_train, y_train)\n",
    "\n",
    "        # Make predictions and measure accuracy\n",
    "        preds += clf.predict_proba(X_test)[:,1] #objasnjenje\n",
    "        score += clf.score(X_valid, y_valid)\n",
    "\n",
    "    # Average accuracy    \n",
    "    score=score/FOLDS\n",
    "    \n",
    "    # Stop timer\n",
    "    stop = time.time()\n",
    "\n",
    "    # Print accuracy and time\n",
    "    print('Model:', key)\n",
    "    print('Average validation accuracy:', np.round(100*score,2))\n",
    "    print('Training time (mins):', np.round((stop - start)/60,2))\n",
    "    print('')\n",
    "    \n",
    "# Ensemble predictions\n",
    "preds=preds/(FOLDS*len(best_classifiers))"
   ]
  },
  {
   "cell_type": "code",
   "execution_count": 51,
   "id": "8cecdd51",
   "metadata": {},
   "outputs": [
    {
     "data": {
      "text/plain": [
       "Text(0.5, 0, 'Probability')"
      ]
     },
     "execution_count": 51,
     "metadata": {},
     "output_type": "execute_result"
    },
    {
     "data": {
      "image/png": "[encoded data removed]",
      "text/plain": [
       "<Figure size 1000x400 with 1 Axes>"
      ]
     },
     "metadata": {},
     "output_type": "display_data"
    }
   ],
   "source": [
    "#radimo prediction na test setu\n",
    "plt.figure(figsize=(10,4))\n",
    "sns.histplot(preds, binwidth=0.01, kde=True)\n",
    "plt.title('Predicted probabilities')\n",
    "plt.xlabel('Probability')"
   ]
  },
  {
   "cell_type": "code",
   "execution_count": 52,
   "id": "9663c0bb",
   "metadata": {},
   "outputs": [
    {
     "name": "stdout",
     "output_type": "stream",
     "text": [
      "35.65\n"
     ]
    }
   ],
   "source": [
    "# Proportion (in test set) we get from rounding\n",
    "print(np.round(100*np.round(preds).sum()/len(preds),2))"
   ]
  },
  {
   "cell_type": "code",
   "execution_count": 25,
   "id": "e6ba3f5b",
   "metadata": {},
   "outputs": [
    {
     "name": "stdout",
     "output_type": "stream",
     "text": [
      "Optimal threshold: 0.554\n"
     ]
    },
    {
     "data": {
      "image/png": "[encoded data removed]",
      "text/plain": [
       "<Figure size 1000x400 with 1 Axes>"
      ]
     },
     "metadata": {},
     "output_type": "display_data"
    }
   ],
   "source": [
    "# Proportion of predicted positive (transported) classes\n",
    "def preds_prop(preds_arr, thresh):\n",
    "    pred_classes=(preds_arr>=thresh).astype(int)\n",
    "    return pred_classes.sum()/len(pred_classes)\n",
    "# proporcija 1 u uzorku \n",
    "\n",
    "# Plot proportions across a range of thresholds\n",
    "def plot_preds_prop(preds_arr):\n",
    "    # Array of thresholds\n",
    "    T_array=np.arange(0,1,0.001)\n",
    "    \n",
    "    # Calculate proportions\n",
    "    prop=np.zeros(len(T_array))\n",
    "    for i, T in enumerate(T_array):\n",
    "        prop[i]=preds_prop(preds_arr, T)\n",
    "        \n",
    "    # Plot proportions\n",
    "    plt.figure(figsize=(10,4))\n",
    "    plt.plot(T_array, prop)\n",
    "    target_prop=0.33      # Experiment with this value\n",
    "    plt.axhline(y=target_prop, color='r', linestyle='--')\n",
    "    plt.text(-0.02,0.45,f'Target proportion: {target_prop}', fontsize=14)\n",
    "    plt.title('Predicted target distribution vs threshold')\n",
    "    plt.xlabel('Threshold')\n",
    "    plt.ylabel('Proportion')\n",
    "    \n",
    "    # Find optimal threshold (the one that leads to the proportion being closest to target_prop)\n",
    "    T_opt=T_array[np.abs(prop-target_prop).argmin()]\n",
    "    print('Optimal threshold:', T_opt)\n",
    "    return T_opt\n",
    "    \n",
    "T_opt=plot_preds_prop(preds)\n",
    "#kako eksperinentirati ?"
   ]
  },
  {
   "cell_type": "code",
   "execution_count": 53,
   "id": "ebc916ad",
   "metadata": {},
   "outputs": [],
   "source": [
    "# Classify test set using optimal threshold\n",
    "preds_tuned=(preds>=0.50).astype(int)"
   ]
  },
  {
   "cell_type": "code",
   "execution_count": 54,
   "id": "c9013ebe",
   "metadata": {
    "scrolled": true
   },
   "outputs": [
    {
     "data": {
      "text/html": [
       "<div>\n",
       "<style scoped>\n",
       "    .dataframe tbody tr th:only-of-type {\n",
       "        vertical-align: middle;\n",
       "    }\n",
       "\n",
       "    .dataframe tbody tr th {\n",
       "        vertical-align: top;\n",
       "    }\n",
       "\n",
       "    .dataframe thead th {\n",
       "        text-align: right;\n",
       "    }\n",
       "</style>\n",
       "<table border=\"1\" class=\"dataframe\">\n",
       "  <thead>\n",
       "    <tr style=\"text-align: right;\">\n",
       "      <th></th>\n",
       "      <th>PassengerId</th>\n",
       "      <th>Survived</th>\n",
       "    </tr>\n",
       "  </thead>\n",
       "  <tbody>\n",
       "    <tr>\n",
       "      <th>0</th>\n",
       "      <td>892</td>\n",
       "      <td>0</td>\n",
       "    </tr>\n",
       "    <tr>\n",
       "      <th>1</th>\n",
       "      <td>893</td>\n",
       "      <td>1</td>\n",
       "    </tr>\n",
       "    <tr>\n",
       "      <th>2</th>\n",
       "      <td>894</td>\n",
       "      <td>0</td>\n",
       "    </tr>\n",
       "    <tr>\n",
       "      <th>3</th>\n",
       "      <td>895</td>\n",
       "      <td>0</td>\n",
       "    </tr>\n",
       "    <tr>\n",
       "      <th>4</th>\n",
       "      <td>896</td>\n",
       "      <td>1</td>\n",
       "    </tr>\n",
       "    <tr>\n",
       "      <th>...</th>\n",
       "      <td>...</td>\n",
       "      <td>...</td>\n",
       "    </tr>\n",
       "    <tr>\n",
       "      <th>413</th>\n",
       "      <td>1305</td>\n",
       "      <td>0</td>\n",
       "    </tr>\n",
       "    <tr>\n",
       "      <th>414</th>\n",
       "      <td>1306</td>\n",
       "      <td>1</td>\n",
       "    </tr>\n",
       "    <tr>\n",
       "      <th>415</th>\n",
       "      <td>1307</td>\n",
       "      <td>0</td>\n",
       "    </tr>\n",
       "    <tr>\n",
       "      <th>416</th>\n",
       "      <td>1308</td>\n",
       "      <td>0</td>\n",
       "    </tr>\n",
       "    <tr>\n",
       "      <th>417</th>\n",
       "      <td>1309</td>\n",
       "      <td>0</td>\n",
       "    </tr>\n",
       "  </tbody>\n",
       "</table>\n",
       "<p>418 rows × 2 columns</p>\n",
       "</div>"
      ],
      "text/plain": [
       "     PassengerId  Survived\n",
       "0            892         0\n",
       "1            893         1\n",
       "2            894         0\n",
       "3            895         0\n",
       "4            896         1\n",
       "..           ...       ...\n",
       "413         1305         0\n",
       "414         1306         1\n",
       "415         1307         0\n",
       "416         1308         0\n",
       "417         1309         0\n",
       "\n",
       "[418 rows x 2 columns]"
      ]
     },
     "execution_count": 54,
     "metadata": {},
     "output_type": "execute_result"
    }
   ],
   "source": [
    "# Sample submission (to get right format)\n",
    "sub=pd.read_csv(\"C:\\\\Users\\\\ante1\\\\OneDrive\\\\Radna površina\\\\kaggle titanic\\\\gender_submission.csv\")\n",
    "# Add predictions\n",
    "sub['Survived']=preds_tuned\n",
    "sub"
   ]
  },
  {
   "cell_type": "code",
   "execution_count": 55,
   "id": "36b1ff6f",
   "metadata": {},
   "outputs": [
    {
     "data": {
      "text/plain": [
       "Text(0.5, 1.0, 'Prediction distribution')"
      ]
     },
     "execution_count": 55,
     "metadata": {},
     "output_type": "execute_result"
    },
    {
     "data": {
      "image/png": "[encoded data removed]",
      "text/plain": [
       "<Figure size 600x600 with 1 Axes>"
      ]
     },
     "metadata": {},
     "output_type": "display_data"
    }
   ],
   "source": [
    "# Prediction distribution\n",
    "plt.figure(figsize=(6,6))\n",
    "sub['Survived'].value_counts().plot.pie(explode=[0.1,0.1], autopct='%1.1f%%', shadow=True, textprops={'fontsize':16}).set_title(\"Prediction distribution\")"
   ]
  },
  {
   "cell_type": "code",
   "execution_count": 56,
   "id": "459efda9",
   "metadata": {
    "scrolled": true
   },
   "outputs": [
    {
     "data": {
      "text/html": [
       "<div>\n",
       "<style scoped>\n",
       "    .dataframe tbody tr th:only-of-type {\n",
       "        vertical-align: middle;\n",
       "    }\n",
       "\n",
       "    .dataframe tbody tr th {\n",
       "        vertical-align: top;\n",
       "    }\n",
       "\n",
       "    .dataframe thead th {\n",
       "        text-align: right;\n",
       "    }\n",
       "</style>\n",
       "<table border=\"1\" class=\"dataframe\">\n",
       "  <thead>\n",
       "    <tr style=\"text-align: right;\">\n",
       "      <th></th>\n",
       "      <th>PassengerId</th>\n",
       "      <th>Survived</th>\n",
       "    </tr>\n",
       "  </thead>\n",
       "  <tbody>\n",
       "    <tr>\n",
       "      <th>0</th>\n",
       "      <td>892</td>\n",
       "      <td>0</td>\n",
       "    </tr>\n",
       "    <tr>\n",
       "      <th>1</th>\n",
       "      <td>893</td>\n",
       "      <td>1</td>\n",
       "    </tr>\n",
       "    <tr>\n",
       "      <th>2</th>\n",
       "      <td>894</td>\n",
       "      <td>0</td>\n",
       "    </tr>\n",
       "    <tr>\n",
       "      <th>3</th>\n",
       "      <td>895</td>\n",
       "      <td>0</td>\n",
       "    </tr>\n",
       "    <tr>\n",
       "      <th>4</th>\n",
       "      <td>896</td>\n",
       "      <td>1</td>\n",
       "    </tr>\n",
       "    <tr>\n",
       "      <th>...</th>\n",
       "      <td>...</td>\n",
       "      <td>...</td>\n",
       "    </tr>\n",
       "    <tr>\n",
       "      <th>413</th>\n",
       "      <td>1305</td>\n",
       "      <td>0</td>\n",
       "    </tr>\n",
       "    <tr>\n",
       "      <th>414</th>\n",
       "      <td>1306</td>\n",
       "      <td>1</td>\n",
       "    </tr>\n",
       "    <tr>\n",
       "      <th>415</th>\n",
       "      <td>1307</td>\n",
       "      <td>0</td>\n",
       "    </tr>\n",
       "    <tr>\n",
       "      <th>416</th>\n",
       "      <td>1308</td>\n",
       "      <td>0</td>\n",
       "    </tr>\n",
       "    <tr>\n",
       "      <th>417</th>\n",
       "      <td>1309</td>\n",
       "      <td>0</td>\n",
       "    </tr>\n",
       "  </tbody>\n",
       "</table>\n",
       "<p>418 rows × 2 columns</p>\n",
       "</div>"
      ],
      "text/plain": [
       "     PassengerId  Survived\n",
       "0            892         0\n",
       "1            893         1\n",
       "2            894         0\n",
       "3            895         0\n",
       "4            896         1\n",
       "..           ...       ...\n",
       "413         1305         0\n",
       "414         1306         1\n",
       "415         1307         0\n",
       "416         1308         0\n",
       "417         1309         0\n",
       "\n",
       "[418 rows x 2 columns]"
      ]
     },
     "execution_count": 56,
     "metadata": {},
     "output_type": "execute_result"
    }
   ],
   "source": [
    "sub"
   ]
  },
  {
   "cell_type": "code",
   "execution_count": 57,
   "id": "f2dfc267",
   "metadata": {},
   "outputs": [],
   "source": [
    "# Output to csv\n",
    "sub.to_csv(\"C:\\\\Users\\\\ante1\\\\OneDrive\\\\Radna površina\\\\kaggle titanic\\\\submission_1.csv\", index=False)"
   ]
  },
  {
   "cell_type": "code",
   "execution_count": null,
   "id": "2ec5e33a",
   "metadata": {},
   "outputs": [],
   "source": []
  },
  {
   "cell_type": "code",
   "execution_count": null,
   "id": "8b1937dd",
   "metadata": {},
   "outputs": [],
   "source": []
  }
 ],
 "metadata": {
  "kernelspec": {
   "display_name": "Python 3 (ipykernel)",
   "language": "python",
   "name": "python3"
  },
  "language_info": {
   "codemirror_mode": {
    "name": "ipython",
    "version": 3
   },
   "file_extension": ".py",
   "mimetype": "text/x-python",
   "name": "python",
   "nbconvert_exporter": "python",
   "pygments_lexer": "ipython3",
   "version": "3.11.5"
  }
 },
 "nbformat": 4,
 "nbformat_minor": 5
}
